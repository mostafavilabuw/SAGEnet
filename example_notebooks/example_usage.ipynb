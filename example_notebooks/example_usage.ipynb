{
 "cells": [
  {
   "cell_type": "code",
   "execution_count": 1,
   "metadata": {},
   "outputs": [
    {
     "name": "stderr",
     "output_type": "stream",
     "text": [
      "/homes/gws/aspiro17/miniconda3/envs/SAGEnet/lib/python3.10/site-packages/torchvision/io/image.py:13: UserWarning: Failed to load image Python extension: '/homes/gws/aspiro17/miniconda3/envs/SAGEnet/lib/python3.10/site-packages/torchvision/image.so: undefined symbol: _ZN3c1017RegisterOperatorsD1Ev'If you don't plan on using image functionality from `torchvision.io`, you can ignore this warning. Otherwise, there might be something wrong with your environment. Did you have `libjpeg` or `libpng` installed before building `torchvision` from source?\n",
      "  warn(\n"
     ]
    }
   ],
   "source": [
    "import numpy as np \n",
    "import pandas as pd\n",
    "import SAGEnet.data \n",
    "import SAGEnet.tools\n",
    "from SAGEnet.models import pSAGEnet\n",
    "from torch.utils.data import DataLoader\n",
    "from pytorch_lightning.callbacks import ModelCheckpoint, EarlyStopping, LearningRateMonitor\n",
    "import pytorch_lightning as pl\n",
    "from pytorch_lightning.loggers import WandbLogger\n",
    "import glob\n",
    "import os"
   ]
  },
  {
   "cell_type": "markdown",
   "metadata": {},
   "source": [
    "#### Notes:   \n",
    "-- Because of data protections, the data we used in our analyses (ROSMAP and GTEx WGS and expression data) is not provided for use in this github. Please see the paper for specifics on how to request that data.   \n",
    "-- Because of this, we instead provide toy data in input_data/example data to demonstrate required data formats for this tutorial.  \n",
    "-- In addition, we do not include the hg38 genome in this github due to its size -- but you can go to input_data/ and run download_genome.sh to save a copy of the hg38 genome to use.  \n",
    "-- Finally, before running this notebook, please follow the steps under \"installation\" in the main READme to install dependencies and the SAGEnet package."
   ]
  },
  {
   "cell_type": "markdown",
   "metadata": {},
   "source": [
    "## Initializing a PersonalGenomeDataset"
   ]
  },
  {
   "cell_type": "markdown",
   "metadata": {},
   "source": [
    "#### Change this path to where you saved the hg38 genome: "
   ]
  },
  {
   "cell_type": "code",
   "execution_count": 2,
   "metadata": {},
   "outputs": [],
   "source": [
    "hg38_file_path='/data/tuxm/project/Decipher-multi-modality/data/genome/hg38.fa'"
   ]
  },
  {
   "cell_type": "markdown",
   "metadata": {},
   "source": [
    "#### Change this path to the location of your SAGEnet repo: "
   ]
  },
  {
   "cell_type": "code",
   "execution_count": 3,
   "metadata": {},
   "outputs": [],
   "source": [
    "base_repo_path='/homes/gws/aspiro17/SAGEnet/'"
   ]
  },
  {
   "cell_type": "markdown",
   "metadata": {},
   "source": [
    "#### Define these paths to the necessary input data (all provided in the github, you do not need to change these): "
   ]
  },
  {
   "cell_type": "code",
   "execution_count": 4,
   "metadata": {},
   "outputs": [],
   "source": [
    "example_vcf_file_path=f'{base_repo_path}input_data/example_data/example_vcf.vcf.gz'\n",
    "tss_data_path=f'{base_repo_path}input_data/gene-ids-and-positions.tsv'\n",
    "sample_names_path=f'{base_repo_path}input_data/example_data/example_individuals.csv'\n",
    "expr_data_path=f'{base_repo_path}input_data/example_data/example_expression.csv'"
   ]
  },
  {
   "cell_type": "markdown",
   "metadata": {},
   "source": [
    "#### Then, load your data: \n",
    "-- example_individuals is a list of sample names, as they appear in the VCF. For this toy data, we include three sample individuals.   \n",
    "-- example_expression_data is a DataFrame of expression data indexed by gene names, with sample names as columns.  For this toy data, we use a single gene, \"ENSG00000013573\".  \n",
    "-- gene_meta_info is a DataFrame of gene metadata containing the columns \"chr\", \"tss\", and \"strand\". "
   ]
  },
  {
   "cell_type": "code",
   "execution_count": 5,
   "metadata": {},
   "outputs": [
    {
     "data": {
      "text/plain": [
       "array(['SAMPLE1', 'SAMPLE2', 'SAMPLE3'], dtype='<U7')"
      ]
     },
     "execution_count": 5,
     "metadata": {},
     "output_type": "execute_result"
    }
   ],
   "source": [
    "example_individuals = np.loadtxt(sample_names_path,delimiter=',',dtype=str)\n",
    "example_individuals"
   ]
  },
  {
   "cell_type": "code",
   "execution_count": 6,
   "metadata": {},
   "outputs": [
    {
     "data": {
      "text/html": [
       "<div>\n",
       "<style scoped>\n",
       "    .dataframe tbody tr th:only-of-type {\n",
       "        vertical-align: middle;\n",
       "    }\n",
       "\n",
       "    .dataframe tbody tr th {\n",
       "        vertical-align: top;\n",
       "    }\n",
       "\n",
       "    .dataframe thead th {\n",
       "        text-align: right;\n",
       "    }\n",
       "</style>\n",
       "<table border=\"1\" class=\"dataframe\">\n",
       "  <thead>\n",
       "    <tr style=\"text-align: right;\">\n",
       "      <th></th>\n",
       "      <th>SAMPLE1</th>\n",
       "      <th>SAMPLE2</th>\n",
       "      <th>SAMPLE3</th>\n",
       "    </tr>\n",
       "  </thead>\n",
       "  <tbody>\n",
       "    <tr>\n",
       "      <th>ENSG00000013573</th>\n",
       "      <td>2.1</td>\n",
       "      <td>0.3</td>\n",
       "      <td>0.7</td>\n",
       "    </tr>\n",
       "  </tbody>\n",
       "</table>\n",
       "</div>"
      ],
      "text/plain": [
       "                 SAMPLE1  SAMPLE2  SAMPLE3\n",
       "ENSG00000013573      2.1      0.3      0.7"
      ]
     },
     "execution_count": 6,
     "metadata": {},
     "output_type": "execute_result"
    }
   ],
   "source": [
    "example_expression_data = pd.read_csv(expr_data_path,index_col=0) \n",
    "example_expression_data"
   ]
  },
  {
   "cell_type": "code",
   "execution_count": 7,
   "metadata": {},
   "outputs": [
    {
     "data": {
      "text/html": [
       "<div>\n",
       "<style scoped>\n",
       "    .dataframe tbody tr th:only-of-type {\n",
       "        vertical-align: middle;\n",
       "    }\n",
       "\n",
       "    .dataframe tbody tr th {\n",
       "        vertical-align: top;\n",
       "    }\n",
       "\n",
       "    .dataframe thead th {\n",
       "        text-align: right;\n",
       "    }\n",
       "</style>\n",
       "<table border=\"1\" class=\"dataframe\">\n",
       "  <thead>\n",
       "    <tr style=\"text-align: right;\">\n",
       "      <th></th>\n",
       "      <th>gene_name</th>\n",
       "      <th>gene_id</th>\n",
       "      <th>chr_hg38</th>\n",
       "      <th>start_hg38</th>\n",
       "      <th>end_hg38</th>\n",
       "      <th>strand_hg38</th>\n",
       "      <th>tss_hg38</th>\n",
       "      <th>chr_hg19</th>\n",
       "      <th>tss_hg19</th>\n",
       "      <th>tss</th>\n",
       "      <th>chr</th>\n",
       "      <th>ensg</th>\n",
       "      <th>strand</th>\n",
       "      <th>pos</th>\n",
       "    </tr>\n",
       "    <tr>\n",
       "      <th>region_id</th>\n",
       "      <th></th>\n",
       "      <th></th>\n",
       "      <th></th>\n",
       "      <th></th>\n",
       "      <th></th>\n",
       "      <th></th>\n",
       "      <th></th>\n",
       "      <th></th>\n",
       "      <th></th>\n",
       "      <th></th>\n",
       "      <th></th>\n",
       "      <th></th>\n",
       "      <th></th>\n",
       "      <th></th>\n",
       "    </tr>\n",
       "  </thead>\n",
       "  <tbody>\n",
       "    <tr>\n",
       "      <th>ENSG00000223972</th>\n",
       "      <td>DDX11L1</td>\n",
       "      <td>ENSG00000223972</td>\n",
       "      <td>1</td>\n",
       "      <td>11869</td>\n",
       "      <td>14409</td>\n",
       "      <td>+</td>\n",
       "      <td>11869</td>\n",
       "      <td>chr1</td>\n",
       "      <td>11869.0</td>\n",
       "      <td>11869</td>\n",
       "      <td>1</td>\n",
       "      <td>ENSG00000223972</td>\n",
       "      <td>+</td>\n",
       "      <td>11869</td>\n",
       "    </tr>\n",
       "    <tr>\n",
       "      <th>ENSG00000227232</th>\n",
       "      <td>WASH7P</td>\n",
       "      <td>ENSG00000227232</td>\n",
       "      <td>1</td>\n",
       "      <td>14404</td>\n",
       "      <td>29570</td>\n",
       "      <td>-</td>\n",
       "      <td>29570</td>\n",
       "      <td>chr1</td>\n",
       "      <td>29570.0</td>\n",
       "      <td>29570</td>\n",
       "      <td>1</td>\n",
       "      <td>ENSG00000227232</td>\n",
       "      <td>-</td>\n",
       "      <td>29570</td>\n",
       "    </tr>\n",
       "    <tr>\n",
       "      <th>ENSG00000278267</th>\n",
       "      <td>MIR6859-1</td>\n",
       "      <td>ENSG00000278267</td>\n",
       "      <td>1</td>\n",
       "      <td>17369</td>\n",
       "      <td>17436</td>\n",
       "      <td>-</td>\n",
       "      <td>17436</td>\n",
       "      <td>chr1</td>\n",
       "      <td>17436.0</td>\n",
       "      <td>17436</td>\n",
       "      <td>1</td>\n",
       "      <td>ENSG00000278267</td>\n",
       "      <td>-</td>\n",
       "      <td>17436</td>\n",
       "    </tr>\n",
       "    <tr>\n",
       "      <th>ENSG00000243485</th>\n",
       "      <td>MIR1302-2HG</td>\n",
       "      <td>ENSG00000243485</td>\n",
       "      <td>1</td>\n",
       "      <td>29554</td>\n",
       "      <td>31109</td>\n",
       "      <td>+</td>\n",
       "      <td>29554</td>\n",
       "      <td>chr1</td>\n",
       "      <td>29554.0</td>\n",
       "      <td>29554</td>\n",
       "      <td>1</td>\n",
       "      <td>ENSG00000243485</td>\n",
       "      <td>+</td>\n",
       "      <td>29554</td>\n",
       "    </tr>\n",
       "    <tr>\n",
       "      <th>ENSG00000284332</th>\n",
       "      <td>MIR1302-2</td>\n",
       "      <td>ENSG00000284332</td>\n",
       "      <td>1</td>\n",
       "      <td>30366</td>\n",
       "      <td>30503</td>\n",
       "      <td>+</td>\n",
       "      <td>30366</td>\n",
       "      <td>chr1</td>\n",
       "      <td>30366.0</td>\n",
       "      <td>30366</td>\n",
       "      <td>1</td>\n",
       "      <td>ENSG00000284332</td>\n",
       "      <td>+</td>\n",
       "      <td>30366</td>\n",
       "    </tr>\n",
       "    <tr>\n",
       "      <th>...</th>\n",
       "      <td>...</td>\n",
       "      <td>...</td>\n",
       "      <td>...</td>\n",
       "      <td>...</td>\n",
       "      <td>...</td>\n",
       "      <td>...</td>\n",
       "      <td>...</td>\n",
       "      <td>...</td>\n",
       "      <td>...</td>\n",
       "      <td>...</td>\n",
       "      <td>...</td>\n",
       "      <td>...</td>\n",
       "      <td>...</td>\n",
       "      <td>...</td>\n",
       "    </tr>\n",
       "    <tr>\n",
       "      <th>ENSG00000271254</th>\n",
       "      <td>AC240274.1</td>\n",
       "      <td>ENSG00000271254</td>\n",
       "      <td>KI270711.1</td>\n",
       "      <td>4612</td>\n",
       "      <td>29626</td>\n",
       "      <td>-</td>\n",
       "      <td>29626</td>\n",
       "      <td>NaN</td>\n",
       "      <td>NaN</td>\n",
       "      <td>29626</td>\n",
       "      <td>KI270711.1</td>\n",
       "      <td>ENSG00000271254</td>\n",
       "      <td>-</td>\n",
       "      <td>29626</td>\n",
       "    </tr>\n",
       "    <tr>\n",
       "      <th>ENSG00000275405</th>\n",
       "      <td>U1</td>\n",
       "      <td>ENSG00000275405</td>\n",
       "      <td>KI270713.1</td>\n",
       "      <td>21861</td>\n",
       "      <td>22024</td>\n",
       "      <td>-</td>\n",
       "      <td>22024</td>\n",
       "      <td>NaN</td>\n",
       "      <td>NaN</td>\n",
       "      <td>22024</td>\n",
       "      <td>KI270713.1</td>\n",
       "      <td>ENSG00000275405</td>\n",
       "      <td>-</td>\n",
       "      <td>22024</td>\n",
       "    </tr>\n",
       "    <tr>\n",
       "      <th>ENSG00000275987</th>\n",
       "      <td>U1</td>\n",
       "      <td>ENSG00000275987</td>\n",
       "      <td>KI270713.1</td>\n",
       "      <td>30437</td>\n",
       "      <td>30580</td>\n",
       "      <td>-</td>\n",
       "      <td>30580</td>\n",
       "      <td>NaN</td>\n",
       "      <td>NaN</td>\n",
       "      <td>30580</td>\n",
       "      <td>KI270713.1</td>\n",
       "      <td>ENSG00000275987</td>\n",
       "      <td>-</td>\n",
       "      <td>30580</td>\n",
       "    </tr>\n",
       "    <tr>\n",
       "      <th>ENSG00000277475</th>\n",
       "      <td>AC213203.1</td>\n",
       "      <td>ENSG00000277475</td>\n",
       "      <td>KI270713.1</td>\n",
       "      <td>31698</td>\n",
       "      <td>32528</td>\n",
       "      <td>-</td>\n",
       "      <td>32528</td>\n",
       "      <td>NaN</td>\n",
       "      <td>NaN</td>\n",
       "      <td>32528</td>\n",
       "      <td>KI270713.1</td>\n",
       "      <td>ENSG00000277475</td>\n",
       "      <td>-</td>\n",
       "      <td>32528</td>\n",
       "    </tr>\n",
       "    <tr>\n",
       "      <th>ENSG00000268674</th>\n",
       "      <td>FAM231D</td>\n",
       "      <td>ENSG00000268674</td>\n",
       "      <td>KI270713.1</td>\n",
       "      <td>35407</td>\n",
       "      <td>35916</td>\n",
       "      <td>+</td>\n",
       "      <td>35407</td>\n",
       "      <td>NaN</td>\n",
       "      <td>NaN</td>\n",
       "      <td>35407</td>\n",
       "      <td>KI270713.1</td>\n",
       "      <td>ENSG00000268674</td>\n",
       "      <td>+</td>\n",
       "      <td>35407</td>\n",
       "    </tr>\n",
       "  </tbody>\n",
       "</table>\n",
       "<p>58302 rows × 14 columns</p>\n",
       "</div>"
      ],
      "text/plain": [
       "                   gene_name          gene_id    chr_hg38  start_hg38  \\\n",
       "region_id                                                               \n",
       "ENSG00000223972      DDX11L1  ENSG00000223972           1       11869   \n",
       "ENSG00000227232       WASH7P  ENSG00000227232           1       14404   \n",
       "ENSG00000278267    MIR6859-1  ENSG00000278267           1       17369   \n",
       "ENSG00000243485  MIR1302-2HG  ENSG00000243485           1       29554   \n",
       "ENSG00000284332    MIR1302-2  ENSG00000284332           1       30366   \n",
       "...                      ...              ...         ...         ...   \n",
       "ENSG00000271254   AC240274.1  ENSG00000271254  KI270711.1        4612   \n",
       "ENSG00000275405           U1  ENSG00000275405  KI270713.1       21861   \n",
       "ENSG00000275987           U1  ENSG00000275987  KI270713.1       30437   \n",
       "ENSG00000277475   AC213203.1  ENSG00000277475  KI270713.1       31698   \n",
       "ENSG00000268674      FAM231D  ENSG00000268674  KI270713.1       35407   \n",
       "\n",
       "                 end_hg38 strand_hg38  tss_hg38 chr_hg19  tss_hg19    tss  \\\n",
       "region_id                                                                   \n",
       "ENSG00000223972     14409           +     11869     chr1   11869.0  11869   \n",
       "ENSG00000227232     29570           -     29570     chr1   29570.0  29570   \n",
       "ENSG00000278267     17436           -     17436     chr1   17436.0  17436   \n",
       "ENSG00000243485     31109           +     29554     chr1   29554.0  29554   \n",
       "ENSG00000284332     30503           +     30366     chr1   30366.0  30366   \n",
       "...                   ...         ...       ...      ...       ...    ...   \n",
       "ENSG00000271254     29626           -     29626      NaN       NaN  29626   \n",
       "ENSG00000275405     22024           -     22024      NaN       NaN  22024   \n",
       "ENSG00000275987     30580           -     30580      NaN       NaN  30580   \n",
       "ENSG00000277475     32528           -     32528      NaN       NaN  32528   \n",
       "ENSG00000268674     35916           +     35407      NaN       NaN  35407   \n",
       "\n",
       "                        chr             ensg strand    pos  \n",
       "region_id                                                   \n",
       "ENSG00000223972           1  ENSG00000223972      +  11869  \n",
       "ENSG00000227232           1  ENSG00000227232      -  29570  \n",
       "ENSG00000278267           1  ENSG00000278267      -  17436  \n",
       "ENSG00000243485           1  ENSG00000243485      +  29554  \n",
       "ENSG00000284332           1  ENSG00000284332      +  30366  \n",
       "...                     ...              ...    ...    ...  \n",
       "ENSG00000271254  KI270711.1  ENSG00000271254      -  29626  \n",
       "ENSG00000275405  KI270713.1  ENSG00000275405      -  22024  \n",
       "ENSG00000275987  KI270713.1  ENSG00000275987      -  30580  \n",
       "ENSG00000277475  KI270713.1  ENSG00000277475      -  32528  \n",
       "ENSG00000268674  KI270713.1  ENSG00000268674      +  35407  \n",
       "\n",
       "[58302 rows x 14 columns]"
      ]
     },
     "execution_count": 7,
     "metadata": {},
     "output_type": "execute_result"
    }
   ],
   "source": [
    "gene_meta_info = pd.read_csv(tss_data_path, sep='\\t', index_col='region_id')\n",
    "gene_meta_info"
   ]
  },
  {
   "cell_type": "markdown",
   "metadata": {},
   "source": [
    "#### Select gene meta information for our example gene, \"ENSG00000013573\": "
   ]
  },
  {
   "cell_type": "code",
   "execution_count": 10,
   "metadata": {},
   "outputs": [
    {
     "data": {
      "text/html": [
       "<div>\n",
       "<style scoped>\n",
       "    .dataframe tbody tr th:only-of-type {\n",
       "        vertical-align: middle;\n",
       "    }\n",
       "\n",
       "    .dataframe tbody tr th {\n",
       "        vertical-align: top;\n",
       "    }\n",
       "\n",
       "    .dataframe thead th {\n",
       "        text-align: right;\n",
       "    }\n",
       "</style>\n",
       "<table border=\"1\" class=\"dataframe\">\n",
       "  <thead>\n",
       "    <tr style=\"text-align: right;\">\n",
       "      <th></th>\n",
       "      <th>gene_name</th>\n",
       "      <th>gene_id</th>\n",
       "      <th>chr_hg38</th>\n",
       "      <th>start_hg38</th>\n",
       "      <th>end_hg38</th>\n",
       "      <th>strand_hg38</th>\n",
       "      <th>tss_hg38</th>\n",
       "      <th>chr_hg19</th>\n",
       "      <th>tss_hg19</th>\n",
       "      <th>tss</th>\n",
       "      <th>chr</th>\n",
       "      <th>ensg</th>\n",
       "      <th>strand</th>\n",
       "      <th>pos</th>\n",
       "    </tr>\n",
       "    <tr>\n",
       "      <th>region_id</th>\n",
       "      <th></th>\n",
       "      <th></th>\n",
       "      <th></th>\n",
       "      <th></th>\n",
       "      <th></th>\n",
       "      <th></th>\n",
       "      <th></th>\n",
       "      <th></th>\n",
       "      <th></th>\n",
       "      <th></th>\n",
       "      <th></th>\n",
       "      <th></th>\n",
       "      <th></th>\n",
       "      <th></th>\n",
       "    </tr>\n",
       "  </thead>\n",
       "  <tbody>\n",
       "    <tr>\n",
       "      <th>ENSG00000013573</th>\n",
       "      <td>DDX11</td>\n",
       "      <td>ENSG00000013573</td>\n",
       "      <td>12</td>\n",
       "      <td>31073845</td>\n",
       "      <td>31104791</td>\n",
       "      <td>+</td>\n",
       "      <td>31073845</td>\n",
       "      <td>chr12</td>\n",
       "      <td>31226779.0</td>\n",
       "      <td>31073845</td>\n",
       "      <td>12</td>\n",
       "      <td>ENSG00000013573</td>\n",
       "      <td>+</td>\n",
       "      <td>31073845</td>\n",
       "    </tr>\n",
       "  </tbody>\n",
       "</table>\n",
       "</div>"
      ],
      "text/plain": [
       "                gene_name          gene_id chr_hg38  start_hg38  end_hg38  \\\n",
       "region_id                                                                   \n",
       "ENSG00000013573     DDX11  ENSG00000013573       12    31073845  31104791   \n",
       "\n",
       "                strand_hg38  tss_hg38 chr_hg19    tss_hg19       tss chr  \\\n",
       "region_id                                                                  \n",
       "ENSG00000013573           +  31073845    chr12  31226779.0  31073845  12   \n",
       "\n",
       "                            ensg strand       pos  \n",
       "region_id                                          \n",
       "ENSG00000013573  ENSG00000013573      +  31073845  "
      ]
     },
     "execution_count": 10,
     "metadata": {},
     "output_type": "execute_result"
    }
   ],
   "source": [
    "example_gene_meta_info=gene_meta_info.loc[['ENSG00000013573']]\n",
    "example_gene_meta_info"
   ]
  },
  {
   "cell_type": "markdown",
   "metadata": {},
   "source": [
    "#### Now that we have our example_expression_data, example_gene_meta_info, vcf_file_path (which contains variant info for our example gene), and hg38_file_path, we can initialize a basic PersonalGenomeDataset:  \n",
    "\n",
    "Important paramters to change to suit your needs:   \n",
    "-- \"contig_prefix\" gives the string before chromosome number in VCF file. Since our example VCF presents the chromosome as \"chr12\", we used the input contig_prefix='chr' to PersonalGenomeDataset. If the format were instead \"12\", we would use the input contig_prefix=''. Default: ''.   \n",
    "-- \"split_expr\" controls whether expression is to be decomposed into mean and difference from mean. If True, idx 1 of the expression output represents difference from mean expression. If False, idx 1 of the expression output represents personal gene expression (used to train non-contrastive model). Default: True.   \n",
    "-- \"input_len\" controls sequence length.   \n",
    "-- \"expr_data_zscore\" determines whether (if \"split_expr\" is True), z-scores will be used as difference from mean. If not, the difference used will be simply personal expression - mean expression. Default: True.   \n",
    "-- \"only_snps\" determine if only SNPs (or if variants of any length) are inserted into the personal genome (by default, all variants are inserted). Default: False.   \n",
    "-- \"expr_data\" must be provided if you want to output personal expression values. If it is not provided, zeros will be used in place of expression values. This can be useful if you are just evaluating a model, not training. Default: None.   \n",
    "-- \"maf_threshold\" determines the threshold MAF for a variant to be inserted. If less than zero, all variants will be inserted. Default: -1.   \n",
    "\n",
    "To initialize a PersonalGenomeDataset to use to train a non-contrastive model, set split_expr=False. \n",
    "\n",
    "For more insight into parameters and how to adapt PersonalGenomeDataset, please see the class documentation.   "
   ]
  },
  {
   "cell_type": "code",
   "execution_count": 11,
   "metadata": {},
   "outputs": [
    {
     "name": "stdout",
     "output_type": "stream",
     "text": [
      "acceptable maf range: -1<maf<2\n",
      "avg is mean\n"
     ]
    }
   ],
   "source": [
    "personal_dataset = SAGEnet.data.PersonalGenomeDataset(metadata=example_gene_meta_info, vcf_file_path=example_vcf_file_path, hg38_file_path=hg38_file_path, sample_list=example_individuals, y_data=example_expression_data,contig_prefix='chr')"
   ]
  },
  {
   "cell_type": "markdown",
   "metadata": {},
   "source": [
    "#### As we can see, the number of datapoints in the PersonalGenomeDataset is equal to the number of genes x the number of individuals (here, 1x3). Each item in the PersonalGenomeDataset is a tuple containing: \n",
    "-- One-hot-encoded tensor of genomic sequence of shape [2,8,40000]. This contains personal genomic sequence from each haplotype (maternal: [0,:4,:], paternal: [0,4:,:]) and reference sequence ([1,:,:]).  \n",
    "-- Expression tensor containing [mean expression, personal difference from mean expression]  \n",
    "-- Gene index  \n",
    "-- Sample index  \n",
    "\n",
    "Gene index and sample index are used to get correlation (across gene and across individual) metrics at epoch ends. "
   ]
  },
  {
   "cell_type": "code",
   "execution_count": 12,
   "metadata": {},
   "outputs": [
    {
     "name": "stdout",
     "output_type": "stream",
     "text": [
      "new datapoint:\n",
      "torch.Size([2, 8, 40000])\n",
      "tensor([1.0333, 1.0667])\n",
      "0\n",
      "0\n",
      "---\n",
      "new datapoint:\n",
      "torch.Size([2, 8, 40000])\n",
      "tensor([ 1.0333, -0.7333])\n",
      "0\n",
      "1\n",
      "---\n",
      "new datapoint:\n",
      "torch.Size([2, 8, 40000])\n",
      "tensor([ 1.0333, -0.3333])\n",
      "0\n",
      "2\n",
      "---\n"
     ]
    }
   ],
   "source": [
    "for item in personal_dataset:\n",
    "    print('new datapoint:')\n",
    "    print(item[0].shape)\n",
    "    print(item[1])\n",
    "    print(item[2])\n",
    "    print(item[3])\n",
    "    print('---')"
   ]
  },
  {
   "cell_type": "markdown",
   "metadata": {},
   "source": [
    "#### There should be no lag time when iterating through the PersonalGenomeDataset. \n",
    "#### The process for creating a ReferenceGenomeDataset or VariantDataset is very similar, please see the READme in SAGEnet/ and the class documentations for details. "
   ]
  },
  {
   "cell_type": "markdown",
   "metadata": {},
   "source": [
    "## Initializing a pSAGEnet model "
   ]
  },
  {
   "cell_type": "markdown",
   "metadata": {},
   "source": [
    "#### A pSAGEnet model with default parameters can be initialized using: "
   ]
  },
  {
   "cell_type": "code",
   "execution_count": 13,
   "metadata": {},
   "outputs": [],
   "source": [
    "my_model = pSAGEnet()"
   ]
  },
  {
   "cell_type": "markdown",
   "metadata": {},
   "source": [
    "Important paramters to change to suit your needs:   \n",
    "-- many paramters (\"input_length\", \"first_layer_kernel_number\", \"int_layers_kernel_number\", etc.) control aspects of model architecture. Please see class documentation for details.   \n",
    "-- \"lam_ref\" and \"lam_diff\" control the weights on each componenent of the loss function. \"lam_ref\" controls the weight on the 0 idx output (mean) and \"lam_diff\" controls the weight on the 1 idx output (difference).   \n",
    "-- \"split_expr\": if False, model \"difference\" output (idx 1) is predicted straight from personal sequence (no intermediate subtraction with reference).  \n",
    "\n",
    "To train a \"non-contrastive\" model, set lam_ref=0, split_expr=False (along with setting split_expr=False in the PersonalGenomeDataset).\n",
    "\n",
    "For more insight into parameters and how to adapt pSAGEnet, please see the class documentation.   "
   ]
  },
  {
   "cell_type": "markdown",
   "metadata": {},
   "source": [
    "#### The process for initializing a rSAGEnet model is very similar, please see class documentation for details. "
   ]
  },
  {
   "cell_type": "markdown",
   "metadata": {},
   "source": [
    "## Training a pSAGEnet model"
   ]
  },
  {
   "cell_type": "markdown",
   "metadata": {},
   "source": [
    "#### The full code required to train a pSAGEnet model can be found in script/train_mdoel/train_model.py. For a simplified walk-through of keys sections, see below. "
   ]
  },
  {
   "cell_type": "markdown",
   "metadata": {},
   "source": [
    "#### Load in your training and validation individuals. The train/validation splits we use for ROSMAP are found in input_data/individual_sets/. "
   ]
  },
  {
   "cell_type": "code",
   "execution_count": 14,
   "metadata": {},
   "outputs": [],
   "source": [
    "sub_data_dir=f'{base_repo_path}input_data/individual_sets/'\n",
    "train_subs = np.loadtxt(f'{sub_data_dir}ROSMAP/train_subs.csv',delimiter=',',dtype=str)\n",
    "val_subs = np.loadtxt(f'{sub_data_dir}ROSMAP/val_subs.csv',delimiter=',',dtype=str)"
   ]
  },
  {
   "cell_type": "markdown",
   "metadata": {},
   "source": [
    "#### Each of these is just a list of individuals (with names that match what's found in the VCF & the expression data): "
   ]
  },
  {
   "cell_type": "code",
   "execution_count": 15,
   "metadata": {},
   "outputs": [
    {
     "name": "stdout",
     "output_type": "stream",
     "text": [
      "(689,)\n",
      "(85,)\n",
      "['P10315029_P10315029' 'P35286551_P35286551' 'P84642424_P84642424'\n",
      " 'P50401390_P50401390' 'P20249897_P20249897']\n"
     ]
    }
   ],
   "source": [
    "print(train_subs.shape)\n",
    "print(val_subs.shape)\n",
    "print(val_subs[:5])"
   ]
  },
  {
   "cell_type": "markdown",
   "metadata": {},
   "source": [
    "#### Get list of genes to use in training and validation. In this example, let's use the top 1000 genes based on the predixcan ranking. "
   ]
  },
  {
   "cell_type": "code",
   "execution_count": 16,
   "metadata": {},
   "outputs": [
    {
     "name": "stdout",
     "output_type": "stream",
     "text": [
      "selecting regions from 0 to 1000\n",
      "(1000,)\n"
     ]
    }
   ],
   "source": [
    "predixcan_res_path=f'{base_repo_path}results_data/predixcan/rosmap_pearson_corr.csv'\n",
    "rand_genes=0 # set to 0 because we are using \"top genes\" not random genes\n",
    "num_top_genes=1000 # based on predixcan ranking \n",
    "gene_idx_start=0 # use genes rank 0 -- rank 999 \n",
    "gene_list = SAGEnet.tools.select_region_set(enet_path=predixcan_res_path, rand_regions=rand_genes,num_regions=num_top_genes,region_idx_start=gene_idx_start) \n",
    "print(gene_list.shape)"
   ]
  },
  {
   "cell_type": "markdown",
   "metadata": {},
   "source": [
    "#### Split this list of genes into train and validation based on chromsome split (defined in SAGEnet.tools)"
   ]
  },
  {
   "cell_type": "code",
   "execution_count": 17,
   "metadata": {},
   "outputs": [
    {
     "name": "stdout",
     "output_type": "stream",
     "text": [
      "selecting train/val/test gene sets based on chromosome split\n",
      "(741,)\n",
      "(118,)\n",
      "(117,)\n"
     ]
    }
   ],
   "source": [
    "train_gene_list, val_gene_list , test_gene_list = SAGEnet.tools.get_train_val_test_genes(gene_list, tss_data_path=tss_data_path)\n",
    "print(train_gene_list.shape)\n",
    "print(val_gene_list.shape)\n",
    "print(test_gene_list.shape)"
   ]
  },
  {
   "cell_type": "markdown",
   "metadata": {},
   "source": [
    "#### Get the TSS information associated with each gene set: "
   ]
  },
  {
   "cell_type": "code",
   "execution_count": 18,
   "metadata": {},
   "outputs": [
    {
     "data": {
      "text/html": [
       "<div>\n",
       "<style scoped>\n",
       "    .dataframe tbody tr th:only-of-type {\n",
       "        vertical-align: middle;\n",
       "    }\n",
       "\n",
       "    .dataframe tbody tr th {\n",
       "        vertical-align: top;\n",
       "    }\n",
       "\n",
       "    .dataframe thead th {\n",
       "        text-align: right;\n",
       "    }\n",
       "</style>\n",
       "<table border=\"1\" class=\"dataframe\">\n",
       "  <thead>\n",
       "    <tr style=\"text-align: right;\">\n",
       "      <th></th>\n",
       "      <th>gene_name</th>\n",
       "      <th>gene_id</th>\n",
       "      <th>chr_hg38</th>\n",
       "      <th>start_hg38</th>\n",
       "      <th>end_hg38</th>\n",
       "      <th>strand_hg38</th>\n",
       "      <th>tss_hg38</th>\n",
       "      <th>chr_hg19</th>\n",
       "      <th>tss_hg19</th>\n",
       "      <th>tss</th>\n",
       "      <th>chr</th>\n",
       "      <th>ensg</th>\n",
       "      <th>strand</th>\n",
       "      <th>pos</th>\n",
       "    </tr>\n",
       "    <tr>\n",
       "      <th>region_id</th>\n",
       "      <th></th>\n",
       "      <th></th>\n",
       "      <th></th>\n",
       "      <th></th>\n",
       "      <th></th>\n",
       "      <th></th>\n",
       "      <th></th>\n",
       "      <th></th>\n",
       "      <th></th>\n",
       "      <th></th>\n",
       "      <th></th>\n",
       "      <th></th>\n",
       "      <th></th>\n",
       "      <th></th>\n",
       "    </tr>\n",
       "  </thead>\n",
       "  <tbody>\n",
       "    <tr>\n",
       "      <th>ENSG00000144820</th>\n",
       "      <td>ADGRG7</td>\n",
       "      <td>ENSG00000144820</td>\n",
       "      <td>3</td>\n",
       "      <td>100609589</td>\n",
       "      <td>100695479</td>\n",
       "      <td>+</td>\n",
       "      <td>100609589</td>\n",
       "      <td>chr3</td>\n",
       "      <td>100328433.0</td>\n",
       "      <td>100609589</td>\n",
       "      <td>3</td>\n",
       "      <td>ENSG00000144820</td>\n",
       "      <td>+</td>\n",
       "      <td>100609589</td>\n",
       "    </tr>\n",
       "    <tr>\n",
       "      <th>ENSG00000128617</th>\n",
       "      <td>OPN1SW</td>\n",
       "      <td>ENSG00000128617</td>\n",
       "      <td>7</td>\n",
       "      <td>128772491</td>\n",
       "      <td>128775790</td>\n",
       "      <td>-</td>\n",
       "      <td>128775790</td>\n",
       "      <td>chr7</td>\n",
       "      <td>128415844.0</td>\n",
       "      <td>128775790</td>\n",
       "      <td>7</td>\n",
       "      <td>ENSG00000128617</td>\n",
       "      <td>-</td>\n",
       "      <td>128775790</td>\n",
       "    </tr>\n",
       "    <tr>\n",
       "      <th>ENSG00000198502</th>\n",
       "      <td>HLA-DRB5</td>\n",
       "      <td>ENSG00000198502</td>\n",
       "      <td>6</td>\n",
       "      <td>32517343</td>\n",
       "      <td>32530287</td>\n",
       "      <td>-</td>\n",
       "      <td>32530287</td>\n",
       "      <td>chr6</td>\n",
       "      <td>32498064.0</td>\n",
       "      <td>32530287</td>\n",
       "      <td>6</td>\n",
       "      <td>ENSG00000198502</td>\n",
       "      <td>-</td>\n",
       "      <td>32530287</td>\n",
       "    </tr>\n",
       "    <tr>\n",
       "      <th>ENSG00000147813</th>\n",
       "      <td>NAPRT</td>\n",
       "      <td>ENSG00000147813</td>\n",
       "      <td>8</td>\n",
       "      <td>143574785</td>\n",
       "      <td>143578649</td>\n",
       "      <td>-</td>\n",
       "      <td>143578649</td>\n",
       "      <td>chr8</td>\n",
       "      <td>144660819.0</td>\n",
       "      <td>143578649</td>\n",
       "      <td>8</td>\n",
       "      <td>ENSG00000147813</td>\n",
       "      <td>-</td>\n",
       "      <td>143578649</td>\n",
       "    </tr>\n",
       "    <tr>\n",
       "      <th>ENSG00000120675</th>\n",
       "      <td>DNAJC15</td>\n",
       "      <td>ENSG00000120675</td>\n",
       "      <td>13</td>\n",
       "      <td>43023203</td>\n",
       "      <td>43114224</td>\n",
       "      <td>+</td>\n",
       "      <td>43023203</td>\n",
       "      <td>chr13</td>\n",
       "      <td>43597339.0</td>\n",
       "      <td>43023203</td>\n",
       "      <td>13</td>\n",
       "      <td>ENSG00000120675</td>\n",
       "      <td>+</td>\n",
       "      <td>43023203</td>\n",
       "    </tr>\n",
       "    <tr>\n",
       "      <th>...</th>\n",
       "      <td>...</td>\n",
       "      <td>...</td>\n",
       "      <td>...</td>\n",
       "      <td>...</td>\n",
       "      <td>...</td>\n",
       "      <td>...</td>\n",
       "      <td>...</td>\n",
       "      <td>...</td>\n",
       "      <td>...</td>\n",
       "      <td>...</td>\n",
       "      <td>...</td>\n",
       "      <td>...</td>\n",
       "      <td>...</td>\n",
       "      <td>...</td>\n",
       "    </tr>\n",
       "    <tr>\n",
       "      <th>ENSG00000176393</th>\n",
       "      <td>RNPEP</td>\n",
       "      <td>ENSG00000176393</td>\n",
       "      <td>1</td>\n",
       "      <td>201982372</td>\n",
       "      <td>202006147</td>\n",
       "      <td>+</td>\n",
       "      <td>201982372</td>\n",
       "      <td>chr1</td>\n",
       "      <td>201951500.0</td>\n",
       "      <td>201982372</td>\n",
       "      <td>1</td>\n",
       "      <td>ENSG00000176393</td>\n",
       "      <td>+</td>\n",
       "      <td>201982372</td>\n",
       "    </tr>\n",
       "    <tr>\n",
       "      <th>ENSG00000219435</th>\n",
       "      <td>CATSPERZ</td>\n",
       "      <td>ENSG00000219435</td>\n",
       "      <td>11</td>\n",
       "      <td>64300391</td>\n",
       "      <td>64304770</td>\n",
       "      <td>+</td>\n",
       "      <td>64300391</td>\n",
       "      <td>chr11</td>\n",
       "      <td>64067863.0</td>\n",
       "      <td>64300391</td>\n",
       "      <td>11</td>\n",
       "      <td>ENSG00000219435</td>\n",
       "      <td>+</td>\n",
       "      <td>64300391</td>\n",
       "    </tr>\n",
       "    <tr>\n",
       "      <th>ENSG00000028203</th>\n",
       "      <td>VEZT</td>\n",
       "      <td>ENSG00000028203</td>\n",
       "      <td>12</td>\n",
       "      <td>95217746</td>\n",
       "      <td>95302790</td>\n",
       "      <td>+</td>\n",
       "      <td>95217746</td>\n",
       "      <td>chr12</td>\n",
       "      <td>95611522.0</td>\n",
       "      <td>95217746</td>\n",
       "      <td>12</td>\n",
       "      <td>ENSG00000028203</td>\n",
       "      <td>+</td>\n",
       "      <td>95217746</td>\n",
       "    </tr>\n",
       "    <tr>\n",
       "      <th>ENSG00000102858</th>\n",
       "      <td>MGRN1</td>\n",
       "      <td>ENSG00000102858</td>\n",
       "      <td>16</td>\n",
       "      <td>4616493</td>\n",
       "      <td>4690974</td>\n",
       "      <td>+</td>\n",
       "      <td>4616493</td>\n",
       "      <td>chr16</td>\n",
       "      <td>4666494.0</td>\n",
       "      <td>4616493</td>\n",
       "      <td>16</td>\n",
       "      <td>ENSG00000102858</td>\n",
       "      <td>+</td>\n",
       "      <td>4616493</td>\n",
       "    </tr>\n",
       "    <tr>\n",
       "      <th>ENSG00000171759</th>\n",
       "      <td>PAH</td>\n",
       "      <td>ENSG00000171759</td>\n",
       "      <td>12</td>\n",
       "      <td>102836885</td>\n",
       "      <td>102958410</td>\n",
       "      <td>-</td>\n",
       "      <td>102958410</td>\n",
       "      <td>chr12</td>\n",
       "      <td>103352188.0</td>\n",
       "      <td>102958410</td>\n",
       "      <td>12</td>\n",
       "      <td>ENSG00000171759</td>\n",
       "      <td>-</td>\n",
       "      <td>102958410</td>\n",
       "    </tr>\n",
       "  </tbody>\n",
       "</table>\n",
       "<p>741 rows × 14 columns</p>\n",
       "</div>"
      ],
      "text/plain": [
       "                gene_name          gene_id chr_hg38  start_hg38   end_hg38  \\\n",
       "region_id                                                                    \n",
       "ENSG00000144820    ADGRG7  ENSG00000144820        3   100609589  100695479   \n",
       "ENSG00000128617    OPN1SW  ENSG00000128617        7   128772491  128775790   \n",
       "ENSG00000198502  HLA-DRB5  ENSG00000198502        6    32517343   32530287   \n",
       "ENSG00000147813     NAPRT  ENSG00000147813        8   143574785  143578649   \n",
       "ENSG00000120675   DNAJC15  ENSG00000120675       13    43023203   43114224   \n",
       "...                   ...              ...      ...         ...        ...   \n",
       "ENSG00000176393     RNPEP  ENSG00000176393        1   201982372  202006147   \n",
       "ENSG00000219435  CATSPERZ  ENSG00000219435       11    64300391   64304770   \n",
       "ENSG00000028203      VEZT  ENSG00000028203       12    95217746   95302790   \n",
       "ENSG00000102858     MGRN1  ENSG00000102858       16     4616493    4690974   \n",
       "ENSG00000171759       PAH  ENSG00000171759       12   102836885  102958410   \n",
       "\n",
       "                strand_hg38   tss_hg38 chr_hg19     tss_hg19        tss chr  \\\n",
       "region_id                                                                     \n",
       "ENSG00000144820           +  100609589     chr3  100328433.0  100609589   3   \n",
       "ENSG00000128617           -  128775790     chr7  128415844.0  128775790   7   \n",
       "ENSG00000198502           -   32530287     chr6   32498064.0   32530287   6   \n",
       "ENSG00000147813           -  143578649     chr8  144660819.0  143578649   8   \n",
       "ENSG00000120675           +   43023203    chr13   43597339.0   43023203  13   \n",
       "...                     ...        ...      ...          ...        ...  ..   \n",
       "ENSG00000176393           +  201982372     chr1  201951500.0  201982372   1   \n",
       "ENSG00000219435           +   64300391    chr11   64067863.0   64300391  11   \n",
       "ENSG00000028203           +   95217746    chr12   95611522.0   95217746  12   \n",
       "ENSG00000102858           +    4616493    chr16    4666494.0    4616493  16   \n",
       "ENSG00000171759           -  102958410    chr12  103352188.0  102958410  12   \n",
       "\n",
       "                            ensg strand        pos  \n",
       "region_id                                           \n",
       "ENSG00000144820  ENSG00000144820      +  100609589  \n",
       "ENSG00000128617  ENSG00000128617      -  128775790  \n",
       "ENSG00000198502  ENSG00000198502      -   32530287  \n",
       "ENSG00000147813  ENSG00000147813      -  143578649  \n",
       "ENSG00000120675  ENSG00000120675      +   43023203  \n",
       "...                          ...    ...        ...  \n",
       "ENSG00000176393  ENSG00000176393      +  201982372  \n",
       "ENSG00000219435  ENSG00000219435      +   64300391  \n",
       "ENSG00000028203  ENSG00000028203      +   95217746  \n",
       "ENSG00000102858  ENSG00000102858      +    4616493  \n",
       "ENSG00000171759  ENSG00000171759      -  102958410  \n",
       "\n",
       "[741 rows x 14 columns]"
      ]
     },
     "execution_count": 18,
     "metadata": {},
     "output_type": "execute_result"
    }
   ],
   "source": [
    "train_gene_meta=gene_meta_info.loc[train_gene_list]\n",
    "val_gene_meta=gene_meta_info.loc[val_gene_list]\n",
    "train_gene_meta"
   ]
  },
  {
   "cell_type": "markdown",
   "metadata": {},
   "source": [
    "#### Following the guidelines from earlier in the notebook, create a PersonalGenomeDataset and Dataloaders for train and validation: \n",
    "-- For data protection reasons described at the top of the notebook, the following cells cannot be run because they need the actual ROSMAP vcf_file_path and expr_data, which we cannot add to the github.   \n",
    "-- train_dataset is train individuals, train genes. val_subs_dataset is val individuals, train genes. val_genes_dataset is val individuals, val genes. "
   ]
  },
  {
   "cell_type": "code",
   "execution_count": null,
   "metadata": {},
   "outputs": [],
   "source": [
    "train_dataset = SAGEnet.data.PersonalGenomeDataset(metadata=train_gene_meta, vcf_file_path=vcf_file_path, hg38_file_path=hg38_file_path, sample_list=train_subs, y_data=expr_data)\n",
    "val_subs_dataset = SAGEnet.data.PersonalGenomeDataset(metadata=train_gene_meta, vcf_file_path=vcf_file_path, hg38_file_path=hg38_file_path, sample_list=val_subs, y_data=expr_data)\n",
    "val_genes_dataset = SAGEnet.data.PersonalGenomeDataset(metadata=val_gene_meta, vcf_file_path=vcf_file_path, hg38_file_path=hg38_file_path, sample_list=val_subs, y_data=expr_data)\n",
    "\n",
    "train_dataloader = DataLoader(train_dataset,shuffle=True)\n",
    "val_subs_dataloader = DataLoader(val_subs_dataset, shuffle=False)\n",
    "val_genes_dataloader = DataLoader(val_genes_dataset,shuffle=False)"
   ]
  },
  {
   "cell_type": "markdown",
   "metadata": {},
   "source": [
    "#### Set up for model training:"
   ]
  },
  {
   "cell_type": "code",
   "execution_count": null,
   "metadata": {},
   "outputs": [],
   "source": [
    "model_save_dir='test_model_save_dir/'\n",
    "\n",
    "val_dataloaders=[val_subs_dataloader,val_genes_dataloader]\n",
    "es = EarlyStopping(monitor=\"train_gene_val_sub_diff_loss/dataloader_idx_0\", patience=5,mode='min')\n",
    "lr_monitor = LearningRateMonitor(logging_interval='epoch')\n",
    "\n",
    "# used to save every model epoch \n",
    "all_epoch_checkpoint_callback = ModelCheckpoint(\n",
    "    dirpath=model_save_dir,  \n",
    "    filename=\"{epoch}\",  \n",
    "    save_top_k=-1,  \n",
    "    every_n_epochs=1,\n",
    "    save_last=False\n",
    ")\n",
    "\n",
    "# save last ckpt to be able to resume model training if job is killed \n",
    "last_checkpoint_callback = ModelCheckpoint(\n",
    "    dirpath=model_save_dir,\n",
    "    filename=\"last\",     \n",
    "    save_top_k=0,        \n",
    "    every_n_train_steps=300,  \n",
    "    save_last=True      \n",
    ")\n",
    "\n",
    "ckpt_list = [all_epoch_checkpoint_callback,last_checkpoint_callback]"
   ]
  },
  {
   "cell_type": "markdown",
   "metadata": {},
   "source": [
    "#### Resume if an earlier training run was interrupted: "
   ]
  },
  {
   "cell_type": "code",
   "execution_count": null,
   "metadata": {},
   "outputs": [],
   "source": [
    "if glob.glob(os.path.join(model_save_dir, \"*.ckpt\"))!=[]:\n",
    "    last_checkpoint = model_save_dir + \"/last.ckpt\"\n",
    "else:\n",
    "    last_checkpoint = None"
   ]
  },
  {
   "cell_type": "markdown",
   "metadata": {},
   "source": [
    "#### Set up a trainer (in our case, using distributed training across multiple nodes):\n",
    "-- To train on a single GPU, set device equal to the integer label of the GPU you want to use. You can also edit the \"accelerator\" argument to use with only CPU. "
   ]
  },
  {
   "cell_type": "code",
   "execution_count": null,
   "metadata": {},
   "outputs": [],
   "source": [
    "wandb_logger = WandbLogger(project='test_project_name', name='test_job_name', id='test_job_name', resume=\"allow\")\n",
    "device=None # to indicate mulit-node training \n",
    "num_nodes=8\n",
    "max_epochs=10\n",
    "\n",
    "trainer = pl.Trainer(\n",
    "    accelerator=\"gpu\", \n",
    "    devices=[int(device)] if device else 1, \n",
    "    num_nodes=num_nodes, \n",
    "    strategy=\"ddp\" if not device else 'auto', \n",
    "    callbacks=ckpt_list, \n",
    "    max_epochs=max_epochs, \n",
    "    benchmark=False, \n",
    "    profiler='simple', \n",
    "    gradient_clip_val=1, \n",
    "    logger=wandb_logger, \n",
    "    log_every_n_steps=10)"
   ]
  },
  {
   "cell_type": "markdown",
   "metadata": {},
   "source": [
    "#### Optionally initialize p-SAGE-net from a pre-trained model (in our case, r-SAGE-net). "
   ]
  },
  {
   "cell_type": "code",
   "execution_count": null,
   "metadata": {},
   "outputs": [],
   "source": [
    "ref_model_ckpt_path='reference_model.ckpt'\n",
    "print(f'loading rSAGEnet weights from {ref_model_ckpt_path} into pSAGEnet model')\n",
    "my_model = SAGEnet.tools.init_model_from_ref(my_model, ref_model_ckpt_path)"
   ]
  },
  {
   "cell_type": "markdown",
   "metadata": {},
   "source": [
    "#### Train! "
   ]
  },
  {
   "cell_type": "code",
   "execution_count": null,
   "metadata": {},
   "outputs": [],
   "source": [
    "if last_checkpoint is None:\n",
    "    print('fitting model')\n",
    "    trainer.fit(my_model, train_dataloader, val_dataloaders=val_dataloaders)\n",
    "else:\n",
    "    print(f'fitting model from ckpt={last_checkpoint}')\n",
    "    trainer.fit(my_model, train_dataloader, val_dataloaders=val_dataloaders, ckpt_path=last_checkpoint)"
   ]
  },
  {
   "cell_type": "markdown",
   "metadata": {},
   "source": [
    "#### For a completely runnable example, see GEUVADIS_example.ipynb. Also see the READmes in each directory for more examples of how to use the repo, and see the code documentation for an explanation of each parameter."
   ]
  }
 ],
 "metadata": {
  "kernelspec": {
   "display_name": "SAGEnet",
   "language": "python",
   "name": "python3"
  },
  "language_info": {
   "codemirror_mode": {
    "name": "ipython",
    "version": 3
   },
   "file_extension": ".py",
   "mimetype": "text/x-python",
   "name": "python",
   "nbconvert_exporter": "python",
   "pygments_lexer": "ipython3",
   "version": "3.10.13"
  }
 },
 "nbformat": 4,
 "nbformat_minor": 2
}
